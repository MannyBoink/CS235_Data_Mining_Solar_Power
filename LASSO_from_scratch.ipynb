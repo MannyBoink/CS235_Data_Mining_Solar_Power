{
  "nbformat": 4,
  "nbformat_minor": 0,
  "metadata": {
    "colab": {
      "provenance": []
    },
    "kernelspec": {
      "name": "python3",
      "display_name": "Python 3"
    },
    "language_info": {
      "name": "python"
    }
  },
  "cells": [
    {
      "cell_type": "markdown",
      "source": [
        "#**DATA IMPORT AND PRE-PROCESSING**\n"
      ],
      "metadata": {
        "id": "iUOymFnGz__d"
      }
    },
    {
      "cell_type": "code",
      "source": [
        "import pandas as pd\n",
        "from sklearn.model_selection import train_test_split\n",
        "from sklearn.preprocessing import StandardScaler\n",
        "import numpy as np"
      ],
      "metadata": {
        "id": "Im_Alzz0A3lN"
      },
      "execution_count": 29,
      "outputs": []
    },
    {
      "cell_type": "code",
      "execution_count": 30,
      "metadata": {
        "colab": {
          "base_uri": "https://localhost:8080/",
          "height": 73
        },
        "id": "X7flJmGecnD4",
        "outputId": "7e4e9ca6-2e91-47ea-bebb-23322e44708c"
      },
      "outputs": [
        {
          "output_type": "display_data",
          "data": {
            "text/plain": [
              "<IPython.core.display.HTML object>"
            ],
            "text/html": [
              "\n",
              "     <input type=\"file\" id=\"files-33949204-26d7-465c-8c86-30df9ee53907\" name=\"files[]\" multiple disabled\n",
              "        style=\"border:none\" />\n",
              "     <output id=\"result-33949204-26d7-465c-8c86-30df9ee53907\">\n",
              "      Upload widget is only available when the cell has been executed in the\n",
              "      current browser session. Please rerun this cell to enable.\n",
              "      </output>\n",
              "      <script>// Copyright 2017 Google LLC\n",
              "//\n",
              "// Licensed under the Apache License, Version 2.0 (the \"License\");\n",
              "// you may not use this file except in compliance with the License.\n",
              "// You may obtain a copy of the License at\n",
              "//\n",
              "//      http://www.apache.org/licenses/LICENSE-2.0\n",
              "//\n",
              "// Unless required by applicable law or agreed to in writing, software\n",
              "// distributed under the License is distributed on an \"AS IS\" BASIS,\n",
              "// WITHOUT WARRANTIES OR CONDITIONS OF ANY KIND, either express or implied.\n",
              "// See the License for the specific language governing permissions and\n",
              "// limitations under the License.\n",
              "\n",
              "/**\n",
              " * @fileoverview Helpers for google.colab Python module.\n",
              " */\n",
              "(function(scope) {\n",
              "function span(text, styleAttributes = {}) {\n",
              "  const element = document.createElement('span');\n",
              "  element.textContent = text;\n",
              "  for (const key of Object.keys(styleAttributes)) {\n",
              "    element.style[key] = styleAttributes[key];\n",
              "  }\n",
              "  return element;\n",
              "}\n",
              "\n",
              "// Max number of bytes which will be uploaded at a time.\n",
              "const MAX_PAYLOAD_SIZE = 100 * 1024;\n",
              "\n",
              "function _uploadFiles(inputId, outputId) {\n",
              "  const steps = uploadFilesStep(inputId, outputId);\n",
              "  const outputElement = document.getElementById(outputId);\n",
              "  // Cache steps on the outputElement to make it available for the next call\n",
              "  // to uploadFilesContinue from Python.\n",
              "  outputElement.steps = steps;\n",
              "\n",
              "  return _uploadFilesContinue(outputId);\n",
              "}\n",
              "\n",
              "// This is roughly an async generator (not supported in the browser yet),\n",
              "// where there are multiple asynchronous steps and the Python side is going\n",
              "// to poll for completion of each step.\n",
              "// This uses a Promise to block the python side on completion of each step,\n",
              "// then passes the result of the previous step as the input to the next step.\n",
              "function _uploadFilesContinue(outputId) {\n",
              "  const outputElement = document.getElementById(outputId);\n",
              "  const steps = outputElement.steps;\n",
              "\n",
              "  const next = steps.next(outputElement.lastPromiseValue);\n",
              "  return Promise.resolve(next.value.promise).then((value) => {\n",
              "    // Cache the last promise value to make it available to the next\n",
              "    // step of the generator.\n",
              "    outputElement.lastPromiseValue = value;\n",
              "    return next.value.response;\n",
              "  });\n",
              "}\n",
              "\n",
              "/**\n",
              " * Generator function which is called between each async step of the upload\n",
              " * process.\n",
              " * @param {string} inputId Element ID of the input file picker element.\n",
              " * @param {string} outputId Element ID of the output display.\n",
              " * @return {!Iterable<!Object>} Iterable of next steps.\n",
              " */\n",
              "function* uploadFilesStep(inputId, outputId) {\n",
              "  const inputElement = document.getElementById(inputId);\n",
              "  inputElement.disabled = false;\n",
              "\n",
              "  const outputElement = document.getElementById(outputId);\n",
              "  outputElement.innerHTML = '';\n",
              "\n",
              "  const pickedPromise = new Promise((resolve) => {\n",
              "    inputElement.addEventListener('change', (e) => {\n",
              "      resolve(e.target.files);\n",
              "    });\n",
              "  });\n",
              "\n",
              "  const cancel = document.createElement('button');\n",
              "  inputElement.parentElement.appendChild(cancel);\n",
              "  cancel.textContent = 'Cancel upload';\n",
              "  const cancelPromise = new Promise((resolve) => {\n",
              "    cancel.onclick = () => {\n",
              "      resolve(null);\n",
              "    };\n",
              "  });\n",
              "\n",
              "  // Wait for the user to pick the files.\n",
              "  const files = yield {\n",
              "    promise: Promise.race([pickedPromise, cancelPromise]),\n",
              "    response: {\n",
              "      action: 'starting',\n",
              "    }\n",
              "  };\n",
              "\n",
              "  cancel.remove();\n",
              "\n",
              "  // Disable the input element since further picks are not allowed.\n",
              "  inputElement.disabled = true;\n",
              "\n",
              "  if (!files) {\n",
              "    return {\n",
              "      response: {\n",
              "        action: 'complete',\n",
              "      }\n",
              "    };\n",
              "  }\n",
              "\n",
              "  for (const file of files) {\n",
              "    const li = document.createElement('li');\n",
              "    li.append(span(file.name, {fontWeight: 'bold'}));\n",
              "    li.append(span(\n",
              "        `(${file.type || 'n/a'}) - ${file.size} bytes, ` +\n",
              "        `last modified: ${\n",
              "            file.lastModifiedDate ? file.lastModifiedDate.toLocaleDateString() :\n",
              "                                    'n/a'} - `));\n",
              "    const percent = span('0% done');\n",
              "    li.appendChild(percent);\n",
              "\n",
              "    outputElement.appendChild(li);\n",
              "\n",
              "    const fileDataPromise = new Promise((resolve) => {\n",
              "      const reader = new FileReader();\n",
              "      reader.onload = (e) => {\n",
              "        resolve(e.target.result);\n",
              "      };\n",
              "      reader.readAsArrayBuffer(file);\n",
              "    });\n",
              "    // Wait for the data to be ready.\n",
              "    let fileData = yield {\n",
              "      promise: fileDataPromise,\n",
              "      response: {\n",
              "        action: 'continue',\n",
              "      }\n",
              "    };\n",
              "\n",
              "    // Use a chunked sending to avoid message size limits. See b/62115660.\n",
              "    let position = 0;\n",
              "    do {\n",
              "      const length = Math.min(fileData.byteLength - position, MAX_PAYLOAD_SIZE);\n",
              "      const chunk = new Uint8Array(fileData, position, length);\n",
              "      position += length;\n",
              "\n",
              "      const base64 = btoa(String.fromCharCode.apply(null, chunk));\n",
              "      yield {\n",
              "        response: {\n",
              "          action: 'append',\n",
              "          file: file.name,\n",
              "          data: base64,\n",
              "        },\n",
              "      };\n",
              "\n",
              "      let percentDone = fileData.byteLength === 0 ?\n",
              "          100 :\n",
              "          Math.round((position / fileData.byteLength) * 100);\n",
              "      percent.textContent = `${percentDone}% done`;\n",
              "\n",
              "    } while (position < fileData.byteLength);\n",
              "  }\n",
              "\n",
              "  // All done.\n",
              "  yield {\n",
              "    response: {\n",
              "      action: 'complete',\n",
              "    }\n",
              "  };\n",
              "}\n",
              "\n",
              "scope.google = scope.google || {};\n",
              "scope.google.colab = scope.google.colab || {};\n",
              "scope.google.colab._files = {\n",
              "  _uploadFiles,\n",
              "  _uploadFilesContinue,\n",
              "};\n",
              "})(self);\n",
              "</script> "
            ]
          },
          "metadata": {}
        },
        {
          "output_type": "stream",
          "name": "stdout",
          "text": [
            "Saving Dataset.xlsx to Dataset (1).xlsx\n"
          ]
        }
      ],
      "source": [
        "from google.colab import files\n",
        "import io\n",
        "uploaded = files.upload()\n",
        "df = pd.read_excel(io.BytesIO(uploaded['Dataset.xlsx']))"
      ]
    },
    {
      "cell_type": "code",
      "source": [
        "fileName = \"Dataset.xlsx\"\n",
        "df_Labels = pd.read_excel(fileName, sheet_name=\"Plant_1_Data\")\n",
        "df_Labels = df_Labels.drop(['PLANT_ID'], axis=1)\n",
        "df_Labels[\"DATE_TIME\"] = pd.to_datetime(df_Labels.DATE_TIME)\n",
        "df_Features = pd.read_excel(fileName, sheet_name=\"Plant_1_Sensor_Data\")\n",
        "df_Features = df_Features.drop(['PLANT_ID','SOURCE_KEY'], axis=1)\n",
        "df_Features['DATE_TIME'] = pd.to_datetime(df_Features.DATE_TIME)"
      ],
      "metadata": {
        "id": "9fUJ2FWCAkD0"
      },
      "execution_count": 31,
      "outputs": []
    },
    {
      "cell_type": "code",
      "source": [
        "df_Learn = pd.merge(df_Features, df_Labels, how='inner', left_on = ['DATE_TIME'], right_on = ['DATE_TIME'])"
      ],
      "metadata": {
        "id": "2jFKgKgAAkSX"
      },
      "execution_count": 32,
      "outputs": []
    },
    {
      "cell_type": "code",
      "source": [
        "X = df_Learn.drop(['AC_POWER', 'DAILY_YIELD', 'TOTAL_YIELD','SOURCE_KEY'], axis = 1)\n",
        "X['hour'] = X['DATE_TIME'].dt.hour\n",
        "X['min'] = X['DATE_TIME'].dt.minute\n",
        "X = X.drop(['DATE_TIME'], axis = 1)\n",
        "y = df_Learn['DC_POWER']\n",
        "type(X)"
      ],
      "metadata": {
        "id": "w-XgEA76Rb7W",
        "colab": {
          "base_uri": "https://localhost:8080/"
        },
        "outputId": "e0cec499-6767-45e8-f2e6-cb4645924002"
      },
      "execution_count": 33,
      "outputs": [
        {
          "output_type": "execute_result",
          "data": {
            "text/plain": [
              "pandas.core.frame.DataFrame"
            ]
          },
          "metadata": {},
          "execution_count": 33
        }
      ]
    },
    {
      "cell_type": "markdown",
      "source": [
        "# **10 Folds Cross Validation**"
      ],
      "metadata": {
        "id": "I7u3P_A-Ll4R"
      }
    },
    {
      "cell_type": "code",
      "source": [
        "#folds                                                              \n",
        "fold1 = X.loc[0:4567]                                           \n",
        "fold2 = X.loc[4568:9135]\n",
        "fold3 = X.loc[9136:13703]\n",
        "fold4 = X.loc[13704:18271]\n",
        "fold5 = X.loc[18272:22839]\n",
        "fold6 = X.loc[22840:27407]\n",
        "fold7 = X.loc[27408:31975]\n",
        "fold8 = X.loc[31976:36543]\n",
        "fold9 = X.loc[36544:41111]\n",
        "fold10 = X.loc[41112:45679]"
      ],
      "metadata": {
        "id": "ekMwfGg3SrIa"
      },
      "execution_count": 34,
      "outputs": []
    },
    {
      "cell_type": "code",
      "source": [
        "import copy\n",
        "arrfolds=[fold1,fold2,fold3,fold4,fold5,fold6,fold7,fold8,fold9,fold10]\n",
        "def makesplit(arrfolds):\n",
        "  lm=[]\n",
        "  for i in range(len(arrfolds)):\n",
        "    #print(i)\n",
        "    copy1=copy.deepcopy(arrfolds)\n",
        "    xtest=copy1.pop(i)\n",
        "    xtrain=pd.concat(copy1)\n",
        "    ytrain=xtrain['DC_POWER']\n",
        "    xtrain=xtrain.drop(['DC_POWER'],axis=1)\n",
        "    ytest=xtest['DC_POWER']\n",
        "    xtest=xtest.drop(['DC_POWER'],axis=1)\n",
        "    lm.append([xtrain,xtest,ytrain,ytest])\n",
        "  return lm\n",
        "    \n",
        "l=makesplit(arrfolds)\n"
      ],
      "metadata": {
        "id": "rLP8RKTxJrLt"
      },
      "execution_count": 35,
      "outputs": []
    },
    {
      "cell_type": "code",
      "source": [
        "from sklearn.preprocessing import StandardScaler\n",
        "def stdscale(x):\n",
        "  cols_to_scale = ['AMBIENT_TEMPERATURE', 'MODULE_TEMPERATURE', 'IRRADIATION']\n",
        "  scaler = StandardScaler()\n",
        "  scaler.fit(x[0][cols_to_scale])\n",
        "  x[0][cols_to_scale] = scaler.transform(x[0][cols_to_scale])\n",
        "  x[1][cols_to_scale] = scaler.transform(x[1][cols_to_scale])\n",
        "for i in range(len(l)):\n",
        "  stdscale(l[i])"
      ],
      "metadata": {
        "id": "YcPjyz6vfgzG"
      },
      "execution_count": 36,
      "outputs": []
    },
    {
      "cell_type": "markdown",
      "source": [
        "# **FEATURE REPRESENTATION**"
      ],
      "metadata": {
        "id": "STw5J3we0cmp"
      }
    },
    {
      "cell_type": "markdown",
      "source": [
        "## **1. CYCLICAL TRANSFORM**"
      ],
      "metadata": {
        "id": "_uEob7Ng2Aq5"
      }
    },
    {
      "cell_type": "code",
      "source": [
        "!pip install feature_engine\n",
        "from feature_engine.creation import CyclicalFeatures\n",
        "def cycenc(x):\n",
        "  cyclical = CyclicalFeatures(variables=['hour', 'min'], drop_original=True)\n",
        "  cyclical.fit(x[0])\n",
        "  x[0] = cyclical.transform(x[0])\n",
        "  x[1] = cyclical.transform(x[1])\n",
        "  \n",
        "for i in range(len(l)):\n",
        "  cycenc(l[i])"
      ],
      "metadata": {
        "colab": {
          "base_uri": "https://localhost:8080/"
        },
        "id": "kFanqSJhgGPR",
        "outputId": "6c20134e-14bb-4d4e-e21f-e55dadef448a"
      },
      "execution_count": 37,
      "outputs": [
        {
          "output_type": "stream",
          "name": "stdout",
          "text": [
            "Looking in indexes: https://pypi.org/simple, https://us-python.pkg.dev/colab-wheels/public/simple/\n",
            "Requirement already satisfied: feature_engine in /usr/local/lib/python3.8/dist-packages (1.5.2)\n",
            "Requirement already satisfied: numpy>=1.18.2 in /usr/local/lib/python3.8/dist-packages (from feature_engine) (1.21.6)\n",
            "Requirement already satisfied: scipy>=1.4.1 in /usr/local/lib/python3.8/dist-packages (from feature_engine) (1.7.3)\n",
            "Requirement already satisfied: scikit-learn>=1.0.0 in /usr/local/lib/python3.8/dist-packages (from feature_engine) (1.0.2)\n",
            "Requirement already satisfied: pandas>=1.0.3 in /usr/local/lib/python3.8/dist-packages (from feature_engine) (1.3.5)\n",
            "Requirement already satisfied: statsmodels>=0.11.1 in /usr/local/lib/python3.8/dist-packages (from feature_engine) (0.12.2)\n",
            "Requirement already satisfied: python-dateutil>=2.7.3 in /usr/local/lib/python3.8/dist-packages (from pandas>=1.0.3->feature_engine) (2.8.2)\n",
            "Requirement already satisfied: pytz>=2017.3 in /usr/local/lib/python3.8/dist-packages (from pandas>=1.0.3->feature_engine) (2022.6)\n",
            "Requirement already satisfied: six>=1.5 in /usr/local/lib/python3.8/dist-packages (from python-dateutil>=2.7.3->pandas>=1.0.3->feature_engine) (1.15.0)\n",
            "Requirement already satisfied: threadpoolctl>=2.0.0 in /usr/local/lib/python3.8/dist-packages (from scikit-learn>=1.0.0->feature_engine) (3.1.0)\n",
            "Requirement already satisfied: joblib>=0.11 in /usr/local/lib/python3.8/dist-packages (from scikit-learn>=1.0.0->feature_engine) (1.2.0)\n",
            "Requirement already satisfied: patsy>=0.5 in /usr/local/lib/python3.8/dist-packages (from statsmodels>=0.11.1->feature_engine) (0.5.3)\n"
          ]
        }
      ]
    },
    {
      "cell_type": "markdown",
      "source": [
        "**Below 4 blocks of code performs feature transform. The code has been commented to make use of cyclical tranform only. Click on the links below to go to the notebook**\n",
        "\n",
        "Factor Analysis\n",
        "\n",
        "1.   [Factor Analysis](https://colab.research.google.com/drive/1lHZRN4XTzDXhPhPuU4bKUgvzoDN7gCmT#scrollTo=Xj0ocgt8-PrE)\n",
        "2.   [Spline Transformer](https://colab.research.google.com/drive/1PKNU4Ak8f5kpWkQKnS0avK5VJkhsRH6D?usp=sharing)\n",
        "3.   [Principal Component Analysis](https://colab.research.google.com/drive/1Wy3d0Yj2cbXPuoIkWgrD3oaM1vQ9E2iQ?usp=sharing)\n",
        "4.   [Power Transformer](https://colab.research.google.com/drive/1-0PswnwNu-wGpSDgiA7fc4vCBEIcBUIZ?usp=sharing)"
      ],
      "metadata": {
        "id": "IPNDcRhw5EUb"
      }
    },
    {
      "cell_type": "markdown",
      "source": [
        "## 2. Factor **Analysis**"
      ],
      "metadata": {
        "id": "uJwzFzaR2dfT"
      }
    },
    {
      "cell_type": "code",
      "source": [
        "# from sklearn.decomposition import FactorAnalysis\n",
        "# model = FactorAnalysis(n_components = 3, random_state=0)\n",
        "# X = pd.DataFrame(model.fit_transform(X))\n",
        "\n",
        "# reass = pd.concat([X, y], axis=1)\n",
        "# reass\n",
        "# X1=reass.drop(['DC_POWER'],axis=1)\n",
        "# Y1=reass['DC_POWER']"
      ],
      "metadata": {
        "id": "ErqxxFsT7LZC"
      },
      "execution_count": 38,
      "outputs": []
    },
    {
      "cell_type": "markdown",
      "source": [
        "## **3. Spline Transformer**"
      ],
      "metadata": {
        "id": "hLb1OvQS7UGD"
      }
    },
    {
      "cell_type": "code",
      "source": [
        "# from sklearn.preprocessing import SplineTransformer\n",
        "\n",
        "# spline = SplineTransformer(degree=2, n_knots=3)\n",
        "# spline.fit(X)\n",
        "# X = pd.DataFrame(spline.transform(X))"
      ],
      "metadata": {
        "id": "IqkoObg57egh"
      },
      "execution_count": 39,
      "outputs": []
    },
    {
      "cell_type": "markdown",
      "source": [
        "## **4. Principal Component Analysis**"
      ],
      "metadata": {
        "id": "DxEkwyTr7liS"
      }
    },
    {
      "cell_type": "code",
      "source": [
        "# from sklearn.decomposition import PCA\n",
        "# pca = PCA(n_components=3) \n",
        "# pca.fit(X)\n",
        "# X = pd.DataFrame(pca.transform(X))\n",
        "\n",
        "# reass = pd.concat([X, y], axis=1)\n",
        "# reass\n",
        "# X1=reass.drop(['DC_POWER'],axis=1)\n",
        "# Y1=reass['DC_POWER']"
      ],
      "metadata": {
        "id": "pC1zszWI7s2C"
      },
      "execution_count": 40,
      "outputs": []
    },
    {
      "cell_type": "markdown",
      "source": [
        "## **5. Power Transformer**"
      ],
      "metadata": {
        "id": "SYfKoZSo71wB"
      }
    },
    {
      "cell_type": "code",
      "source": [
        "# from sklearn.preprocessing import PowerTransformer\n",
        "\n",
        "# pt = PowerTransformer()\n",
        "# pt.fit(X)\n",
        "# X = pt.transform(X)\n",
        "# X = pd.DataFrame(X)\n",
        "\n",
        "# reass = pd.concat([X, y], axis=1)\n",
        "# reass\n",
        "# X1=reass.drop(['DC_POWER'],axis=1)\n",
        "# Y1=reass['DC_POWER']"
      ],
      "metadata": {
        "id": "Zd6jNRHO75iC"
      },
      "execution_count": 41,
      "outputs": []
    },
    {
      "cell_type": "markdown",
      "source": [
        "# **Error Bar Plot Function**"
      ],
      "metadata": {
        "id": "ReC_6rC08MNi"
      }
    },
    {
      "cell_type": "code",
      "source": [
        "def errorbar(listrmse,listmse,listr2,listmae):\n",
        "  \n",
        "  labels = ['RMSE', 'R2', 'MAE']\n",
        "  x_pos = np.arange(len(labels))\n",
        "  CTEs = [abs(statistics.mean(listrmse)), abs(statistics.mean(listr2)), abs(statistics.mean(listmae))]\n",
        "  error = [abs(statistics.pstdev(listrmse)), abs(statistics.pstdev(listr2)), abs(statistics.pstdev(listmae))]\n",
        "  fig, ax = plt.subplots()\n",
        "  ax.bar(x_pos, CTEs,\n",
        "        yerr=error,\n",
        "        align='center',\n",
        "        alpha=0.5,\n",
        "        ecolor='black',\n",
        "        capsize=2)\n",
        "  \n",
        "  ax.set_xticks(x_pos)\n",
        "  ax.set_xticklabels(labels)\n",
        "  ax.set_title('Error Bar plots of RMSE, R2 Score, and MAE')\n",
        "  ax.yaxis.grid(True)\n",
        "\n",
        "  #Print metric values\n",
        "  print('RMSE score: %.8f (SD: %.8f)' % (statistics.mean(listrmse), statistics.pstdev(listrmse)) )\n",
        "  print('R2 score  : %.8f (SD: %.8f)' % (statistics.mean(listr2), statistics.pstdev(listr2)) )\n",
        "  print('MAE score : %.8f (SD: %.8f)' % (statistics.mean(listmae), statistics.pstdev(listmae)) )\n",
        "  print('MSE score : %.7f (SD: %.8f)' % (statistics.mean(listmse), statistics.pstdev(listmse)) )\n",
        "\n",
        "  # Save the figure and show\n",
        "  plt.tight_layout()\n",
        "  plt.savefig('bar_plot_with_error_bars.png')\n",
        "  plt.show()"
      ],
      "metadata": {
        "id": "FpmYkfGWhZw3"
      },
      "execution_count": 42,
      "outputs": []
    },
    {
      "cell_type": "markdown",
      "source": [
        "# **LASSO MODEL TRAINING AND TESTS**"
      ],
      "metadata": {
        "id": "CPPjf_Dk8WpR"
      }
    },
    {
      "cell_type": "code",
      "source": [
        "# Importing libraries\n",
        "import sklearn\n",
        "from sklearn.metrics import mean_squared_error\n",
        "from sklearn.metrics import mean_absolute_error\n",
        "from sklearn.metrics import r2_score\n",
        "import statistics\n",
        "from numpy import absolute\n",
        "import scipy.stats as stats\n",
        "\n",
        "\n",
        "\n",
        "import numpy as np\n",
        "import pandas as pd\n",
        "from sklearn.model_selection import train_test_split\n",
        "import matplotlib.pyplot as plt\n",
        "\n",
        "# Lasso Regression\n",
        "\n",
        "class LassoRegression() :\n",
        "\t\n",
        "\tdef __init__( self, learning_rate, iterations, l1_penality):\t\t\n",
        "\t\tself.learning_rate = learning_rate\n",
        "\t\tself.iterations = iterations\n",
        "\t\tself.l1_penality = l1_penality\n",
        "\t\t\n",
        "\t# Function for model training\n",
        "\t\t\t\n",
        "\tdef fit( self, X_train, Y_train ) :\n",
        "\t\t# no_of_training_examples, no_of_features\n",
        "\t\tself.m, self.n = X_train.shape\n",
        "\n",
        "\t\t# weight initialization\n",
        "\t\tself.Weight = np.zeros(self.n)\n",
        "\t\tself.b = 0\n",
        "\t\tself.X_train = X_train\n",
        "\t\tself.Y_train = Y_train\n",
        "\n",
        "\t\t# gradient descent learning\n",
        "\t\tfor i in range(self.iterations):\n",
        "\t\t\tself.update_weights()\n",
        "\t\treturn self\n",
        "\n",
        "\t# Helper function to update weights in gradient descent\n",
        "\tdef update_weights(self):\n",
        "\t\tY_pred = self.predict(self.X_train)\n",
        "\t\n",
        "\t\t# calculate gradients\n",
        "\t\tdW = np.zeros(self.n)\n",
        "\t\tfor j in range(self.n):\n",
        "\t\t\tif self.Weight[j] > 0:\n",
        "\t\t\t\tdW[j] = (-(2*(self.X_train.iloc[:, j]).dot(self.Y_train - Y_pred)) + self.l1_penality)/self.m\n",
        "\t\t\telse :\n",
        "\t\t\t\tdW[j] = (-(2*(self.X_train.iloc[:, j]).dot(self.Y_train - Y_pred)) - self.l1_penality)/self.m\n",
        "\t\tdb = - 2 * np.sum( self.Y_train - Y_pred ) / self.m\n",
        "\n",
        "\t\t# update weights\n",
        "\t\tself.Weight = self.Weight - self.learning_rate * dW\n",
        "\t\tself.b = self.b - self.learning_rate * db\n",
        "\t\treturn self\n",
        "\n",
        "\t# Hypothetical function h( x )\n",
        "\t\n",
        "\tdef predict(self, X_test) :\n",
        "\t\treturn X_test.dot(self.Weight) + self.b\n",
        "\t\n",
        "\n",
        "model = LassoRegression( iterations =1000, learning_rate = 0.1, l1_penality = 500 )\n",
        "listrmse=[]\n",
        "listmse=[]\n",
        "listmae=[]\n",
        "listr2=[]\n",
        "pvals=[]\n",
        "tvals=[]\n",
        "\n",
        "for i in l:\n",
        "\tmodel.fit(i[0], i[2])\n",
        "\tY_pred = model.predict(i[1])\n",
        "\tY_pred.where(Y_pred>0,0)\n",
        "\trmse=mean_squared_error(i[3],Y_pred,squared=False)\n",
        "\tmse=mean_squared_error(i[3],Y_pred)\n",
        "\tmae=mean_absolute_error(i[3],Y_pred)\n",
        "\tr2=r2_score(i[3],Y_pred)\n",
        "\ttstat, t_pval = stats.ttest_ind(a=Y_pred, b=i[3], equal_var=True)\n",
        "\n",
        "\n",
        "\t# display(\"T-Statistic: \" + str(tstat.round(3)), \"PValue: \" + str(t_pval.round(3)))\n",
        "\n",
        "\n",
        "\tlistrmse.append(rmse)\n",
        "\tlistmse.append(mse)\n",
        "\tlistmae.append(mae)\n",
        "\tlistr2.append(r2)\n",
        "\tpvals.append(t_pval)\n",
        "\ttvals.append(tstat)\n",
        "\n",
        "#\tprint(listrmse)\n",
        "print(\"RMSE:\",statistics.mean(listrmse))\n",
        "#\tprint(listmse)\n",
        "print(\"MSE:\", statistics.mean(listmse))\n",
        "#\tprint(listmae)\n",
        "print(\"MAE:\", statistics.mean(listmae))\n",
        "#\tprint(listr2)\n",
        "print(\"R2:\", statistics.mean(listr2))\n",
        "# print(pval)\n",
        "print(\"p_val:\", statistics.mean(pvals))\n",
        "# print(tstat)\n",
        "print(\"t_stat:\", statistics.mean(tvals))\n",
        "errorbar(listrmse,listmse,listr2,listmae)\n"
      ],
      "metadata": {
        "id": "mQc11pBZUz9w",
        "colab": {
          "base_uri": "https://localhost:8080/",
          "height": 471
        },
        "outputId": "0dc8a63b-6148-45db-ef1d-d7898812aaf6"
      },
      "execution_count": 43,
      "outputs": [
        {
          "output_type": "stream",
          "name": "stdout",
          "text": [
            "RMSE: 507.7203291130113\n",
            "MSE: 274529.20012839267\n",
            "MAE: 262.2325011978728\n",
            "R2: 0.9828260066038814\n",
            "p_val: 0.6799836948686296\n",
            "t_stat: -0.03933775958829745\n",
            "RMSE score: 507.72032911 (SD: 129.41896126)\n",
            "R2 score  : 0.98282601 (SD: 0.01079391)\n",
            "MAE score : 262.23250120 (SD: 41.08331415)\n",
            "MSE score : 274529.2001284 (SD: 150675.99639064)\n"
          ]
        },
        {
          "output_type": "display_data",
          "data": {
            "text/plain": [
              "<Figure size 432x288 with 1 Axes>"
            ],
            "image/png": "[encoded data removed]"
          },
          "metadata": {
            "needs_background": "light"
          }
        }
      ]
    },
    {
      "cell_type": "markdown",
      "source": [
        "# **L2** **Regularization**"
      ],
      "metadata": {
        "id": "fn4s0KFILUNS"
      }
    },
    {
      "cell_type": "code",
      "source": [
        "X_train = np.column_stack(([1]*l[0][0].shape[0], l[0][0]))# add a column with ones for the bias value while converting it into a matrix\n",
        "X_test = np.column_stack(([1]*l[0][1].shape[0], l[0][1]))\n",
        "m,n = X_train.shape # rows and columns \n",
        "theta = np.array([1] * n) # initial theta\n",
        "X = np.array(X_train) # convert X_train into a numpy matrix\n",
        "y = l[0][2].values.flatten() # convert y into an array\n",
        "\n",
        "alpha = 0.1 # alpha value \n",
        "iteration = 1000 # iterations\n",
        "lam = 0.1"
      ],
      "metadata": {
        "id": "1N-hAwuZc3Ua"
      },
      "execution_count": 44,
      "outputs": []
    },
    {
      "cell_type": "code",
      "source": [
        "cost_l2 = []\n",
        "theta_l2 = theta\n",
        "for i in range(iteration):\n",
        "    pred = np.matmul(X,theta_l2)\n",
        "    J = 1/(2*m) * np.sum(np.square(pred-y)) + (lam*np.sum(np.square(theta_l2)))\n",
        "    cost_l2.append(J)\n",
        "    d_theta_l2 = 1/m * np.dot(X.T,(pred-y)) + (lam*2*theta_l2)\n",
        "    theta_l2 = theta_l2 - alpha*d_theta_l2"
      ],
      "metadata": {
        "id": "vKC_6gcST1ct"
      },
      "execution_count": 45,
      "outputs": []
    },
    {
      "cell_type": "code",
      "source": [
        "y_pred = np.matmul(X_test, theta_l2)\n",
        "rmse=mean_squared_error(l[0][3],y_pred,squared=False)\n",
        "mse=mean_squared_error(l[0][3],Y_pred)\n",
        "mae=mean_absolute_error(l[0][3],Y_pred)\n",
        "r2=r2_score(l[0][3],Y_pred)\n",
        "tstat, t_pval = stats.ttest_ind(a=Y_pred, b=l[0][3], equal_var=True)\n",
        "print(\"RMSE:\",rmse)\n",
        "#\tprint(listmse)\n",
        "print(\"MSE:\", mse)\n",
        "#\tprint(listmae)\n",
        "print(\"MAE:\", mae)\n",
        "#\tprint(listr2)\n",
        "print(\"R2:\",r2 )\n",
        "# print(pval)\n",
        "print(\"p_val:\",t_pval )\n",
        "# print(tstat)\n",
        "print(\"t_stat:\",tstat )"
      ],
      "metadata": {
        "colab": {
          "base_uri": "https://localhost:8080/"
        },
        "id": "E941XLtmT6wW",
        "outputId": "97cba5df-e19a-495e-c4d1-6159cd0e1b37"
      },
      "execution_count": 46,
      "outputs": [
        {
          "output_type": "stream",
          "name": "stdout",
          "text": [
            "RMSE: 699.6820339862533\n",
            "MSE: 22254135.962595865\n",
            "MAE: 3432.3828603720776\n",
            "R2: -0.9658105615063743\n",
            "p_val: 0.0009749497732907186\n",
            "t_stat: -3.298729589829249\n"
          ]
        }
      ]
    },
    {
      "cell_type": "markdown",
      "source": [
        "# **Linear Regression with sgd**"
      ],
      "metadata": {
        "id": "z64QnZOyMe2_"
      }
    },
    {
      "cell_type": "markdown",
      "source": [
        "The code has been commented because the input paramaetrs that is used is different I was finidng it difficult to integrate it with this common code. Below is the main sgd_regressor function from scratch. Click [here](https://colab.research.google.com/drive/1cnvKkb5zRWLiG-WqKG0vny5H8B62j9xA#scrollTo=0FeeZw0brO2W) for the notebook."
      ],
      "metadata": {
        "id": "Jh6Dm6C6C_X8"
      }
    },
    {
      "cell_type": "code",
      "source": [
        "# from sklearn.metrics import mean_squared_error\n",
        "# def sgd_regressor(X, y, learning_rate=0.5, n_epochs=1000, k=40):\n",
        "    \n",
        "#     w = np.random.randn(1,7)  # Randomly initializing weights\n",
        "#     b = np.random.randn(1,1)   # Random intercept value\n",
        "    \n",
        "#     epoch=1\n",
        "    \n",
        "#     while epoch <= n_epochs:\n",
        "        \n",
        "#         temp = X.sample(k)\n",
        "\n",
        "#         X_tr = temp.iloc[:,0:7].values\n",
        "#         y_tr = temp.iloc[:,-1].values\n",
        "        \n",
        "#         Lw = w\n",
        "#         Lb = b\n",
        "        \n",
        "#         loss = 0\n",
        "#         y_pred = []\n",
        "#         sq_loss = []\n",
        "        \n",
        "#         for i in range(k):\n",
        "              \n",
        "#             Lw = (-2/k * X_tr[i]) * (y_tr[i] - np.dot(X_tr[i],w.T) - b)\n",
        "#             Lb = (-2/k) * (y_tr[i] - np.dot(X_tr[i],w.T) - b)\n",
        "            \n",
        "#             w = w - learning_rate * Lw\n",
        "#             b = b - learning_rate * Lb\n",
        "            \n",
        "#             y_predicted = np.dot(X_tr[i],w.T)\n",
        "#             y_pred.append(y_predicted)\n",
        "        \n",
        "#         loss = mean_squared_error(y_pred, y_tr)\n",
        "            \n",
        "#         print(\"Epoch: %d, Loss: %.3f\" %(epoch, loss))\n",
        "#         epoch+=1\n",
        "#         learning_rate = learning_rate/1.02\n",
        "        \n",
        "#     return w,b"
      ],
      "metadata": {
        "id": "cXd0wike9I9R"
      },
      "execution_count": 47,
      "outputs": []
    }
  ]
}
{
  "cells": [
    {
      "cell_type": "code",
      "execution_count": 246,
      "metadata": {
        "colab": {
          "base_uri": "https://localhost:8080/"
        },
        "id": "pRAp4pUYSZ3U",
        "outputId": "065329fb-a58d-4a7a-b41c-4080ba2bd01d"
      },
      "outputs": [
        {
          "output_type": "stream",
          "name": "stdout",
          "text": [
            "Looking in indexes: https://pypi.org/simple, https://us-python.pkg.dev/colab-wheels/public/simple/\n",
            "Requirement already satisfied: Feature-engine in /usr/local/lib/python3.7/dist-packages (1.4.0)\n",
            "Requirement already satisfied: pandas>=1.0.3 in /usr/local/lib/python3.7/dist-packages (from Feature-engine) (1.3.5)\n",
            "Requirement already satisfied: statsmodels>=0.11.1 in /usr/local/lib/python3.7/dist-packages (from Feature-engine) (0.12.2)\n",
            "Requirement already satisfied: scipy>=1.4.1 in /usr/local/lib/python3.7/dist-packages (from Feature-engine) (1.7.3)\n",
            "Requirement already satisfied: numpy>=1.18.2 in /usr/local/lib/python3.7/dist-packages (from Feature-engine) (1.21.6)\n",
            "Requirement already satisfied: scikit-learn>=1.0.0 in /usr/local/lib/python3.7/dist-packages (from Feature-engine) (1.0.2)\n",
            "Requirement already satisfied: python-dateutil>=2.7.3 in /usr/local/lib/python3.7/dist-packages (from pandas>=1.0.3->Feature-engine) (2.8.2)\n",
            "Requirement already satisfied: pytz>=2017.3 in /usr/local/lib/python3.7/dist-packages (from pandas>=1.0.3->Feature-engine) (2022.6)\n",
            "Requirement already satisfied: six>=1.5 in /usr/local/lib/python3.7/dist-packages (from python-dateutil>=2.7.3->pandas>=1.0.3->Feature-engine) (1.15.0)\n",
            "Requirement already satisfied: threadpoolctl>=2.0.0 in /usr/local/lib/python3.7/dist-packages (from scikit-learn>=1.0.0->Feature-engine) (3.1.0)\n",
            "Requirement already satisfied: joblib>=0.11 in /usr/local/lib/python3.7/dist-packages (from scikit-learn>=1.0.0->Feature-engine) (1.2.0)\n",
            "Requirement already satisfied: patsy>=0.5 in /usr/local/lib/python3.7/dist-packages (from statsmodels>=0.11.1->Feature-engine) (0.5.3)\n"
          ]
        }
      ],
      "source": [
        "!pip install Feature-engine\n",
        "import pandas as pd\n",
        "from sklearn.model_selection import train_test_split\n",
        "from sklearn.preprocessing import StandardScaler\n",
        "import numpy as np\n",
        "from sklearn.linear_model import RANSACRegressor\n",
        "from sklearn.linear_model import LinearRegression\n",
        "import matplotlib.pyplot as plt\n",
        "from sklearn.metrics import mean_squared_error\n",
        "from sklearn.metrics import mean_absolute_error\n",
        "from sklearn.metrics import r2_score\n",
        "from feature_engine.creation import CyclicalFeatures\n",
        "import scipy.stats as stats"
      ]
    },
    {
      "cell_type": "code",
      "execution_count": null,
      "metadata": {
        "colab": {
          "background_save": true
        },
        "id": "H-ENsp_YSjWM"
      },
      "outputs": [],
      "source": [
        "fileName = \"Dataset.xlsx\"\n",
        "df_Labels = pd.read_excel(fileName, sheet_name=\"Plant_1_Data\")\n",
        "df_Labels = df_Labels.drop(['PLANT_ID'], axis=1)\n",
        "df_Labels[\"DATE_TIME\"] = pd.to_datetime(df_Labels.DATE_TIME)\n",
        "df_Features = pd.read_excel(fileName, sheet_name=\"Plant_1_Sensor_Data\")\n",
        "df_Features = df_Features.drop(['PLANT_ID','SOURCE_KEY'], axis=1)\n",
        "df_Features['DATE_TIME'] = pd.to_datetime(df_Features.DATE_TIME)\n",
        "print(df_Features.head())"
      ]
    },
    {
      "cell_type": "code",
      "execution_count": null,
      "metadata": {
        "colab": {
          "background_save": true
        },
        "id": "9NyFOJ_qSmBB"
      },
      "outputs": [],
      "source": [
        "df_Learn = pd.merge(df_Features, df_Labels, how='inner', left_on = ['DATE_TIME'], right_on = ['DATE_TIME'])\n",
        "df_Learn"
      ]
    },
    {
      "cell_type": "code",
      "execution_count": null,
      "metadata": {
        "colab": {
          "background_save": true
        },
        "id": "ux3y0ZV3Sre8"
      },
      "outputs": [],
      "source": [
        "'''sourceKeyList = list(df_Learn['SOURCE_KEY'].unique())\n",
        "sourceKeyDict = {}\n",
        "for key in sourceKeyList:\n",
        "  df_Key = df_Learn[df_Learn['SOURCE_KEY'] == key]\n",
        "  #print(df_Key.describe())\n",
        "  X = df_Key.drop(['DC_POWER', 'AC_POWER', 'DAILY_YIELD', 'TOTAL_YIELD', 'SOURCE_KEY'], axis = 1)\n",
        "  #print(X.describe())\n",
        "  y = df_Key['DC_POWER']\n",
        "  \n",
        "  #Train Val Test Split: 80%, 10%, 10%\n",
        "  X_train, X_test, y_train, y_test = train_test_split(X, y, test_size=0.1, random_state=42)\n",
        "  X_train, X_val, y_train, y_val = train_test_split(X_train, y_train, test_size=1/9, random_state=42)\n",
        "  #print(X_train.head()) print(y_train)\n",
        "  sourceKeyDict[key] = list([X_train, y_train, X_val, y_val, X_test, y_test])\n",
        "len(sourceKeyDict)\n",
        "'''\n",
        "X = df_Learn.drop(['DC_POWER', 'AC_POWER', 'DAILY_YIELD', 'TOTAL_YIELD'], axis = 1)\n",
        "X['hour'] = X['DATE_TIME'].dt.hour\n",
        "X['min'] = X['DATE_TIME'].dt.minute\n",
        "X = X.drop(['DATE_TIME'], axis = 1)\n",
        "y = df_Learn['DC_POWER']\n",
        "display(X)\n",
        "X_train, X_test, y_train, y_test = train_test_split(X, y, test_size=0.1, random_state=42)\n",
        "cols_to_scale = ['AMBIENT_TEMPERATURE', 'MODULE_TEMPERATURE', 'IRRADIATION']\n",
        "scaler = StandardScaler()\n",
        "scaler.fit(X_train[cols_to_scale])\n",
        "X_train[cols_to_scale] = scaler.transform(X_train[cols_to_scale])\n",
        "X_test[cols_to_scale] = scaler.transform(X_test[cols_to_scale])\n",
        "display(X_train)"
      ]
    },
    {
      "cell_type": "code",
      "execution_count": null,
      "metadata": {
        "colab": {
          "background_save": true
        },
        "id": "BUhTm10dh7AN"
      },
      "outputs": [],
      "source": [
        "cyclical = CyclicalFeatures(variables=['hour', 'min'], drop_original=True)\n",
        "display(X_train)\n",
        "cyclical.fit(X_train)\n",
        "X_train = cyclical.transform(X_train)\n",
        "X_test = cyclical.transform(X_test)\n",
        "\n",
        "X_train.shape[1] + 1"
      ]
    },
    {
      "cell_type": "code",
      "execution_count": null,
      "metadata": {
        "colab": {
          "background_save": true
        },
        "id": "xP-Ysbdfh9SF"
      },
      "outputs": [],
      "source": [
        "ransacReg1 = RANSACRegressor(LinearRegression(), random_state=42, min_samples = 50, loss = 'squared_error')\n",
        "ransacReg1.fit(X_train.drop(['SOURCE_KEY'], axis = 1), y_train)\n",
        "prediction1 = ransacReg1.predict(X_test.drop(['SOURCE_KEY'], axis = 1))\n",
        "\n",
        "ransacReg1.score(X_test.drop(['SOURCE_KEY'], axis = 1), y_test)"
      ]
    },
    {
      "cell_type": "code",
      "execution_count": null,
      "metadata": {
        "colab": {
          "background_save": true
        },
        "id": "7hpK_Mb7W0yA"
      },
      "outputs": [],
      "source": [
        "#display(X_test)\n",
        "#vals = pd.DataFrame([[pd.to_datetime('2020-05-15 12:30:00'), '32.14768473',\t'52.35325513',\t'0.6492476293', 'HmiyD2TTLFNqkNe']], columns=('DATE_TIME', 'AMBIENT_TEMPERATURE', 'MODULE_TEMPERATURE', 'IRRADIATION', 'SOURCE_KEY'))\n",
        "vals = pd.DataFrame([[pd.to_datetime('2020-05-15 12:30:00'), '32.14768473',\t'52.35325513',\t'0.6492476293', '1BY6WEcLGh8j5v7']], columns=('DATE_TIME', 'AMBIENT_TEMPERATURE', 'MODULE_TEMPERATURE', 'IRRADIATION', 'SOURCE_KEY'))\n",
        "#display(vals)\n",
        "vals['hour'] = vals['DATE_TIME'].dt.hour\n",
        "vals['min'] = vals['DATE_TIME'].dt.minute\n",
        "vals = vals.drop(['DATE_TIME'], axis = 1)\n",
        "display(vals)\n",
        "vals[cols_to_scale] = scaler.transform(vals[cols_to_scale])\n",
        "#display(vals)\n",
        "vals = cyclical.transform(vals)\n",
        "predicted_value = ransacReg1.predict(vals.drop(['SOURCE_KEY'], axis = 1))\n",
        "if predicted_value < 0:\n",
        "  predicted_value = 0.0\n",
        "display(\"DC_POWER Prediction for sample: \" + str(predicted_value))"
      ]
    },
    {
      "cell_type": "code",
      "execution_count": null,
      "metadata": {
        "colab": {
          "background_save": true
        },
        "id": "Q2vobjNkXHEN"
      },
      "outputs": [],
      "source": [
        "pred = ransacReg1.predict(X_test.drop(['SOURCE_KEY'], axis = 1))\n",
        "pred[pred < 0] = 0.0\n",
        "mae = mean_absolute_error(y_test, pred)\n",
        "display(mae)"
      ]
    },
    {
      "cell_type": "markdown",
      "metadata": {
        "id": "NxeSOjKOqZOS"
      },
      "source": [
        "# Significance Tests\n",
        "\n",
        "Two tailed Student-T Test for y_test and pred with the number of samples in each being 4568 at a 95% significance level. We choose the T Test since population variance is unknown."
      ]
    },
    {
      "cell_type": "code",
      "execution_count": null,
      "metadata": {
        "colab": {
          "background_save": true
        },
        "id": "-eWXihFiqQp3"
      },
      "outputs": [],
      "source": [
        "display(\"Size of samples: \" + str(len(y_test)))\n",
        "#Variance check for two tailed test\n",
        "display(\"Variance of Predicted Samples: \" + str(np.var(pred)), \"Variance of Ground Truth: \" + str(np.var(np.exp(y_test)) - 1))\n",
        "display(\"Standard Deviation of the Sample: \" + str(np.sqrt(np.var(pred))))\n",
        "#Ratio\n",
        "display(\"Ratio to check for nearly equal Variance: \" + str(np.var(pred)/np.var(y_test)))"
      ]
    },
    {
      "cell_type": "code",
      "execution_count": null,
      "metadata": {
        "colab": {
          "background_save": true
        },
        "id": "9DrEhBjfqk1Y"
      },
      "outputs": [],
      "source": [
        "#T-Test\n",
        "#Equal Variance, hence equal_var = 'True'\n",
        "tstat, t_pval = stats.ttest_ind(a=pred, b=y_test, equal_var=True)\n",
        "\n",
        "display(\"T-Statistic: \" + str(tstat.round(3)), \"PValue: \" + str(t_pval.round(3)))"
      ]
    },
    {
      "cell_type": "code",
      "execution_count": null,
      "metadata": {
        "colab": {
          "background_save": true
        },
        "id": "_H9prlWQVUTA"
      },
      "outputs": [],
      "source": [
        "from sklearn.decomposition import PCA\n",
        "import plotly.express as px\n",
        "pca = PCA() #decomposition.PCA(n_components = 2)\n",
        "view = pca.fit_transform(X_train.drop(['SOURCE_KEY'], axis = 1))\n",
        "labels = {\n",
        "    str(i): f\"PC {i+1} ({var:.1f}%)\"\n",
        "    for i, var in enumerate(pca.explained_variance_ratio_ * 100)\n",
        "}\n",
        "\n",
        "fig = px.scatter_matrix(\n",
        "    view,\n",
        "    labels=labels,\n",
        "    dimensions=range(2)\n",
        ")\n",
        "fig.update_traces(diagonal_visible=False)\n",
        "fig.show()"
      ]
    },
    {
      "cell_type": "code",
      "execution_count": null,
      "metadata": {
        "colab": {
          "background_save": true
        },
        "id": "eP_KVBdkEr-5"
      },
      "outputs": [],
      "source": [
        "# inlier = ransacReg1.inlier_mask_\n",
        "# outlier = np.logical_not(inlier)\n",
        "# line_X = np.arange(3, 51, 2)\n",
        "# print(X_test)\n",
        "# line_y = ransacReg1.predict(line_X[:, np.newaxis])\n",
        "# plt.scatter(X_test[inlier], y_test[inlier], c='lightblue', marker='o', label='Inliers')\n",
        "# plt.scatter(X_test[outlier], y_test[outlier], c='green', marker='s', label='Outliers')\n",
        "# plt.plot(line_X, line_y, color = 'black')\n",
        "# plt.xlabel('AMBIENT_TEMPERATURE')\n",
        "# plt.ylabel('DC_POWER')\n",
        "# plt.legend(loc='upper left')"
      ]
    },
    {
      "cell_type": "code",
      "execution_count": null,
      "metadata": {
        "colab": {
          "background_save": true
        },
        "id": "im3vpikMPiox"
      },
      "outputs": [],
      "source": [
        "plt.scatter(df_Learn['MODULE_TEMPERATURE'], df_Learn['DC_POWER'])\n",
        "plt.show()\n",
        "\n",
        "plt.scatter(df_Learn['AMBIENT_TEMPERATURE'], df_Learn['DC_POWER'])\n",
        "plt.show()\n",
        "\n",
        "plt.scatter(df_Learn['IRRADIATION'], df_Learn['DC_POWER'])\n",
        "plt.show()\n",
        "\n",
        "# plt.scatter(np.log(df_Learn['AMBIENT_TEMPERATURE']), np.log(df_Learn['DC_POWER']))\n",
        "# plt.show()"
      ]
    },
    {
      "cell_type": "code",
      "execution_count": null,
      "metadata": {
        "colab": {
          "background_save": true
        },
        "id": "Tpmk4qJ8T4-P"
      },
      "outputs": [],
      "source": [
        "X_time = df_Learn.drop(['AC_POWER', 'DAILY_YIELD', 'TOTAL_YIELD'], axis = 1)\n",
        "X_time['hour'] = X_time['DATE_TIME'].dt.hour\n",
        "X_time['min'] = X_time['DATE_TIME'].dt.minute\n",
        "X_time = X_time.drop(['DATE_TIME'], axis = 1)\n",
        "\n",
        "plt.scatter(X_time['hour'], X_time['DC_POWER'])\n",
        "plt.show()"
      ]
    },
    {
      "cell_type": "code",
      "execution_count": null,
      "metadata": {
        "colab": {
          "background_save": true
        },
        "id": "DXMdseBnq2PI"
      },
      "outputs": [],
      "source": [
        "plt.figure(figsize=(15,15))\n",
        "plt.scatter(y_test, pred, c='red')\n",
        "\n",
        "p1 = max(max(pred), max(y_test))\n",
        "p2 = min(min(pred), min(y_test))\n",
        "plt.plot([p1, p2], [p1, p2], 'green')\n",
        "plt.xlabel('True Values', fontsize=15)\n",
        "plt.ylabel('Predictions', fontsize=15)\n",
        "plt.legend(['Actual Value', 'Predicted Value'])\n",
        "plt.axis('equal')\n",
        "plt.show()"
      ]
    }
  ],
  "metadata": {
    "colab": {
      "collapsed_sections": [],
      "provenance": []
    },
    "kernelspec": {
      "display_name": "Python 3",
      "name": "python3"
    },
    "language_info": {
      "name": "python"
    }
  },
  "nbformat": 4,
  "nbformat_minor": 0
}